{
 "cells": [
  {
   "cell_type": "markdown",
   "id": "88b5bcd5",
   "metadata": {},
   "source": [
    "# Paul Osting"
   ]
  },
  {
   "cell_type": "markdown",
   "id": "01402bc1",
   "metadata": {},
   "source": [
    "# PA_8"
   ]
  },
  {
   "cell_type": "code",
   "execution_count": null,
   "id": "75784e34",
   "metadata": {},
   "outputs": [],
   "source": []
  },
  {
   "cell_type": "markdown",
   "id": "662b9a83",
   "metadata": {},
   "source": [
    "# A"
   ]
  },
  {
   "cell_type": "code",
   "execution_count": 3,
   "id": "ffcc3587",
   "metadata": {},
   "outputs": [
    {
     "data": {
      "text/plain": [
       "array([[10, 20],\n",
       "       [30, 40]])"
      ]
     },
     "execution_count": 3,
     "metadata": {},
     "output_type": "execute_result"
    }
   ],
   "source": [
    "import numpy as np\n",
    "list1=[10,20,30,40]\n",
    "array1=np.array(list1)\n",
    "array1=array1.reshape(2,2)\n",
    "array1"
   ]
  },
  {
   "cell_type": "markdown",
   "id": "e2747a6b",
   "metadata": {},
   "source": [
    "# i"
   ]
  },
  {
   "cell_type": "code",
   "execution_count": 4,
   "id": "f8d47ea3",
   "metadata": {},
   "outputs": [
    {
     "data": {
      "text/plain": [
       "array([[ 100,  400],\n",
       "       [ 900, 1600]], dtype=int32)"
      ]
     },
     "execution_count": 4,
     "metadata": {},
     "output_type": "execute_result"
    }
   ],
   "source": [
    "s=array1**2\n",
    "s"
   ]
  },
  {
   "cell_type": "markdown",
   "id": "6bbc002f",
   "metadata": {},
   "source": [
    "# ii"
   ]
  },
  {
   "cell_type": "code",
   "execution_count": 6,
   "id": "8d9e3ac8",
   "metadata": {},
   "outputs": [
    {
     "data": {
      "text/plain": [
       "array([[110, 120],\n",
       "       [130, 140]])"
      ]
     },
     "execution_count": 6,
     "metadata": {},
     "output_type": "execute_result"
    }
   ],
   "source": [
    "h=array1+100\n",
    "h"
   ]
  },
  {
   "cell_type": "markdown",
   "id": "ce3ac1a6",
   "metadata": {},
   "source": [
    "# iii"
   ]
  },
  {
   "cell_type": "code",
   "execution_count": 7,
   "id": "9558cb68",
   "metadata": {},
   "outputs": [
    {
     "data": {
      "text/plain": [
       "array([[ 50, 100],\n",
       "       [150, 200]])"
      ]
     },
     "execution_count": 7,
     "metadata": {},
     "output_type": "execute_result"
    }
   ],
   "source": [
    "f=array1*5\n",
    "f"
   ]
  },
  {
   "cell_type": "markdown",
   "id": "bbe295c9",
   "metadata": {},
   "source": [
    "# iv"
   ]
  },
  {
   "cell_type": "code",
   "execution_count": 8,
   "id": "1c7e4295",
   "metadata": {},
   "outputs": [
    {
     "data": {
      "text/plain": [
       "array([[3.16227766, 4.47213595],\n",
       "       [5.47722558, 6.32455532]])"
      ]
     },
     "execution_count": 8,
     "metadata": {},
     "output_type": "execute_result"
    }
   ],
   "source": [
    "sr=np.sqrt(array1)\n",
    "sr"
   ]
  },
  {
   "cell_type": "markdown",
   "id": "f57f2e52",
   "metadata": {},
   "source": [
    "# B"
   ]
  },
  {
   "cell_type": "code",
   "execution_count": 13,
   "id": "6959e838",
   "metadata": {},
   "outputs": [],
   "source": [
    "array2=np.linspace(10,20,9)\n",
    "array2=array2.reshape(3,3)\n",
    "list2=[]\n",
    "for i in range(3,28):\n",
    "    if i%3==0:\n",
    "        list2.append(i)\n",
    "array3=np.array(list2)\n",
    "array3=array3.reshape(3,3)"
   ]
  },
  {
   "cell_type": "code",
   "execution_count": 15,
   "id": "3510c7ad",
   "metadata": {},
   "outputs": [
    {
     "data": {
      "text/plain": [
       "array([[13.  , 17.25, 21.5 ],\n",
       "       [25.75, 30.  , 34.25],\n",
       "       [38.5 , 42.75, 47.  ]])"
      ]
     },
     "execution_count": 15,
     "metadata": {},
     "output_type": "execute_result"
    }
   ],
   "source": [
    "array4=array2+array3\n",
    "array4"
   ]
  },
  {
   "cell_type": "markdown",
   "id": "6f17b288",
   "metadata": {},
   "source": [
    "# C"
   ]
  },
  {
   "cell_type": "code",
   "execution_count": 23,
   "id": "286e0c20",
   "metadata": {},
   "outputs": [],
   "source": [
    "p1=np.load('process1.npy')"
   ]
  },
  {
   "cell_type": "code",
   "execution_count": 24,
   "id": "11b90400",
   "metadata": {},
   "outputs": [],
   "source": [
    "p2=np.load('process2.npy')"
   ]
  },
  {
   "cell_type": "code",
   "execution_count": 25,
   "id": "44e3e21f",
   "metadata": {},
   "outputs": [],
   "source": [
    "p3=np.load('process3.npy')"
   ]
  },
  {
   "cell_type": "code",
   "execution_count": 26,
   "id": "e489ec1a",
   "metadata": {},
   "outputs": [],
   "source": [
    "p4=np.load('process4.npy')"
   ]
  },
  {
   "cell_type": "code",
   "execution_count": 27,
   "id": "821d80e2",
   "metadata": {},
   "outputs": [],
   "source": [
    "p5=np.load('process1.npy')"
   ]
  },
  {
   "cell_type": "code",
   "execution_count": 35,
   "id": "c754239e",
   "metadata": {},
   "outputs": [],
   "source": [
    "pt=np.hstack([p1,p2,p3,p4,p5])"
   ]
  },
  {
   "cell_type": "code",
   "execution_count": 37,
   "id": "22750867",
   "metadata": {},
   "outputs": [],
   "source": [
    "pt=pt.reshape(5,5)"
   ]
  },
  {
   "cell_type": "code",
   "execution_count": 38,
   "id": "7bfaf312",
   "metadata": {},
   "outputs": [
    {
     "data": {
      "text/plain": [
       "array([[52, 12, 81,  0, 58],\n",
       "       [96,  4, 61, 16, 43],\n",
       "       [38, 96, 45, 17, 58],\n",
       "       [97, 21, 22, 25,  6],\n",
       "       [52, 12, 81,  0, 58]])"
      ]
     },
     "execution_count": 38,
     "metadata": {},
     "output_type": "execute_result"
    }
   ],
   "source": [
    "pt"
   ]
  },
  {
   "cell_type": "code",
   "execution_count": 42,
   "id": "602b403f",
   "metadata": {},
   "outputs": [
    {
     "name": "stdout",
     "output_type": "stream",
     "text": [
      "40.6\n",
      "44.0\n",
      "50.8\n",
      "34.2\n",
      "40.6\n"
     ]
    }
   ],
   "source": [
    "print(np.mean(pt[0]))\n",
    "print(np.mean(pt[1]))\n",
    "print(np.mean(pt[2]))\n",
    "print(np.mean(pt[3]))\n",
    "print(np.mean(pt[4]))"
   ]
  },
  {
   "cell_type": "code",
   "execution_count": 43,
   "id": "a7233a9a",
   "metadata": {},
   "outputs": [
    {
     "name": "stdout",
     "output_type": "stream",
     "text": [
      "42.04\n"
     ]
    }
   ],
   "source": [
    "print(np.mean(pt))"
   ]
  }
 ],
 "metadata": {
  "kernelspec": {
   "display_name": "Python 3 (ipykernel)",
   "language": "python",
   "name": "python3"
  },
  "language_info": {
   "codemirror_mode": {
    "name": "ipython",
    "version": 3
   },
   "file_extension": ".py",
   "mimetype": "text/x-python",
   "name": "python",
   "nbconvert_exporter": "python",
   "pygments_lexer": "ipython3",
   "version": "3.9.13"
  }
 },
 "nbformat": 4,
 "nbformat_minor": 5
}
